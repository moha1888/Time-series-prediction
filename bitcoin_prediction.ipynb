{
 "cells": [
  {
   "cell_type": "code",
   "execution_count": 1,
   "metadata": {
    "colab": {},
    "colab_type": "code",
    "id": "VBXq-Wb_K1XR"
   },
   "outputs": [],
   "source": [
    "import os\n",
    "import numpy as np\n",
    "import tensorflow as tf\n",
    "from tensorflow import keras\n",
    "import pandas as pd\n",
    "import seaborn as sns\n",
    "from pylab import rcParams\n",
    "import matplotlib.pyplot as plt\n",
    "from matplotlib import rc\n",
    "from sklearn.preprocessing import MinMaxScaler\n",
    "from tensorflow.keras.layers import Bidirectional, Dropout, Activation, Dense, LSTM\n",
    "#from tensorflow.python.keras.layers import CuDNNLSTM\n",
    "from tensorflow.keras.models import Sequential\n",
    "\n",
    "%matplotlib inline\n",
    "\n",
    "sns.set(style='whitegrid', palette='muted', font_scale=1.5)\n",
    "\n",
    "rcParams['figure.figsize'] = 14, 8\n",
    "\n",
    "RANDOM_SEED = 42\n",
    "\n",
    "np.random.seed(RANDOM_SEED)"
   ]
  },
  {
   "cell_type": "code",
   "execution_count": 2,
   "metadata": {
    "colab": {},
    "colab_type": "code",
    "id": "y5o6dHO2LLz-"
   },
   "outputs": [],
   "source": [
    "# Data comes from:\n",
    "# https://finance.yahoo.com/quote/BTC-USD/history?period1=1279314000&period2=1556053200&interval=1d&filter=history&frequency=1d\n",
    "\n",
    "csv_path = \"C:\\\\Users\\\\MO\\\\Desktop\\\\Deep-Learning-For-Hackers-master\\\\data\\\\3.stock-prediction\\\\BTC-USD.csv\"\n",
    "# csv_path = \"https://raw.githubusercontent.com/curiousily/Deep-Learning-For-Hackers/master/data/3.stock-prediction/AAPL.csv\""
   ]
  },
  {
   "cell_type": "code",
   "execution_count": 3,
   "metadata": {
    "colab": {},
    "colab_type": "code",
    "id": "BnuBLC5DLjXH"
   },
   "outputs": [],
   "source": [
    "df = pd.read_csv(csv_path, parse_dates=['Date'])"
   ]
  },
  {
   "cell_type": "code",
   "execution_count": 4,
   "metadata": {
    "colab": {},
    "colab_type": "code",
    "id": "kqMRRLeTLk_P"
   },
   "outputs": [],
   "source": [
    "df = df.sort_values('Date')"
   ]
  },
  {
   "cell_type": "code",
   "execution_count": 5,
   "metadata": {
    "colab": {
     "base_uri": "https://localhost:8080/",
     "height": 204
    },
    "colab_type": "code",
    "id": "mU4B3eNtLpgH",
    "outputId": "b61de067-73e6-4add-fc40-2ccd847d1349"
   },
   "outputs": [
    {
     "data": {
      "text/html": [
       "<div>\n",
       "<style scoped>\n",
       "    .dataframe tbody tr th:only-of-type {\n",
       "        vertical-align: middle;\n",
       "    }\n",
       "\n",
       "    .dataframe tbody tr th {\n",
       "        vertical-align: top;\n",
       "    }\n",
       "\n",
       "    .dataframe thead th {\n",
       "        text-align: right;\n",
       "    }\n",
       "</style>\n",
       "<table border=\"1\" class=\"dataframe\">\n",
       "  <thead>\n",
       "    <tr style=\"text-align: right;\">\n",
       "      <th></th>\n",
       "      <th>Date</th>\n",
       "      <th>Open</th>\n",
       "      <th>High</th>\n",
       "      <th>Low</th>\n",
       "      <th>Close</th>\n",
       "      <th>Adj Close</th>\n",
       "      <th>Volume</th>\n",
       "    </tr>\n",
       "  </thead>\n",
       "  <tbody>\n",
       "    <tr>\n",
       "      <th>0</th>\n",
       "      <td>2019-01-10</td>\n",
       "      <td>4048.340088</td>\n",
       "      <td>4085.090088</td>\n",
       "      <td>3631.070068</td>\n",
       "      <td>3668.149902</td>\n",
       "      <td>3668.149902</td>\n",
       "      <td>412522198</td>\n",
       "    </tr>\n",
       "    <tr>\n",
       "      <th>1</th>\n",
       "      <td>2019-01-11</td>\n",
       "      <td>3668.149902</td>\n",
       "      <td>3729.689941</td>\n",
       "      <td>3616.409912</td>\n",
       "      <td>3669.199951</td>\n",
       "      <td>3669.199951</td>\n",
       "      <td>231465488</td>\n",
       "    </tr>\n",
       "    <tr>\n",
       "      <th>2</th>\n",
       "      <td>2019-01-12</td>\n",
       "      <td>3669.199951</td>\n",
       "      <td>3692.120117</td>\n",
       "      <td>3611.199951</td>\n",
       "      <td>3664.379883</td>\n",
       "      <td>3664.379883</td>\n",
       "      <td>103912541</td>\n",
       "    </tr>\n",
       "    <tr>\n",
       "      <th>3</th>\n",
       "      <td>2019-01-13</td>\n",
       "      <td>3664.379883</td>\n",
       "      <td>3675.199951</td>\n",
       "      <td>3528.239990</td>\n",
       "      <td>3551.239990</td>\n",
       "      <td>3551.239990</td>\n",
       "      <td>164125048</td>\n",
       "    </tr>\n",
       "    <tr>\n",
       "      <th>4</th>\n",
       "      <td>2019-01-14</td>\n",
       "      <td>3551.239990</td>\n",
       "      <td>3748.879883</td>\n",
       "      <td>3544.530029</td>\n",
       "      <td>3703.899902</td>\n",
       "      <td>3703.899902</td>\n",
       "      <td>204793029</td>\n",
       "    </tr>\n",
       "  </tbody>\n",
       "</table>\n",
       "</div>"
      ],
      "text/plain": [
       "        Date         Open         High          Low        Close    Adj Close  \\\n",
       "0 2019-01-10  4048.340088  4085.090088  3631.070068  3668.149902  3668.149902   \n",
       "1 2019-01-11  3668.149902  3729.689941  3616.409912  3669.199951  3669.199951   \n",
       "2 2019-01-12  3669.199951  3692.120117  3611.199951  3664.379883  3664.379883   \n",
       "3 2019-01-13  3664.379883  3675.199951  3528.239990  3551.239990  3551.239990   \n",
       "4 2019-01-14  3551.239990  3748.879883  3544.530029  3703.899902  3703.899902   \n",
       "\n",
       "      Volume  \n",
       "0  412522198  \n",
       "1  231465488  \n",
       "2  103912541  \n",
       "3  164125048  \n",
       "4  204793029  "
      ]
     },
     "execution_count": 5,
     "metadata": {},
     "output_type": "execute_result"
    }
   ],
   "source": [
    "df.head()"
   ]
  },
  {
   "cell_type": "code",
   "execution_count": 6,
   "metadata": {
    "colab": {
     "base_uri": "https://localhost:8080/",
     "height": 34
    },
    "colab_type": "code",
    "id": "t-xB1zK0C0mG",
    "outputId": "12a8abf5-4c5e-45c5-8a57-8c9f43fcf0a1"
   },
   "outputs": [
    {
     "data": {
      "text/plain": [
       "(102, 7)"
      ]
     },
     "execution_count": 6,
     "metadata": {},
     "output_type": "execute_result"
    }
   ],
   "source": [
    "df.shape"
   ]
  },
  {
   "cell_type": "code",
   "execution_count": 7,
   "metadata": {
    "colab": {
     "base_uri": "https://localhost:8080/",
     "height": 514
    },
    "colab_type": "code",
    "id": "4XyoR5lG3Jxv",
    "outputId": "c024bbc8-9101-43cb-fc71-02803e60e315"
   },
   "outputs": [
    {
     "data": {
      "text/plain": [
       "Text(0, 0.5, 'Close Price (USD)')"
      ]
     },
     "execution_count": 7,
     "metadata": {},
     "output_type": "execute_result"
    },
    {
     "data": {
      "image/png": "[encoded data removed]",
      "text/plain": [
       "<Figure size 1008x576 with 1 Axes>"
      ]
     },
     "metadata": {},
     "output_type": "display_data"
    }
   ],
   "source": [
    "ax = df.plot(x='Date', y='Close');\n",
    "ax.set_xlabel(\"Date\")\n",
    "ax.set_ylabel(\"Close Price (USD)\")"
   ]
  },
  {
   "cell_type": "markdown",
   "metadata": {
    "colab_type": "text",
    "id": "7twAH-I-qO9Z"
   },
   "source": [
    "# Normalization"
   ]
  },
  {
   "cell_type": "code",
   "execution_count": 8,
   "metadata": {
    "colab": {},
    "colab_type": "code",
    "id": "Ux2FtgMAqObq"
   },
   "outputs": [],
   "source": [
    "scaler = MinMaxScaler()\n",
    "\n",
    "close_price = df.Close.values.reshape(-1, 1)\n",
    "\n",
    "scaled_close = scaler.fit_transform(close_price)"
   ]
  },
  {
   "cell_type": "code",
   "execution_count": 9,
   "metadata": {
    "colab": {
     "base_uri": "https://localhost:8080/",
     "height": 34
    },
    "colab_type": "code",
    "id": "UprkaMWFvQOG",
    "outputId": "50828dd8-aa18-43af-998b-82e99fd8e8a9"
   },
   "outputs": [
    {
     "data": {
      "text/plain": [
       "(102, 1)"
      ]
     },
     "execution_count": 9,
     "metadata": {},
     "output_type": "execute_result"
    }
   ],
   "source": [
    "scaled_close.shape"
   ]
  },
  {
   "cell_type": "code",
   "execution_count": 10,
   "metadata": {
    "colab": {
     "base_uri": "https://localhost:8080/",
     "height": 34
    },
    "colab_type": "code",
    "id": "qOg2HX9AuTk-",
    "outputId": "a5666c09-544a-4115-b89b-ae5ee76537a1"
   },
   "outputs": [
    {
     "data": {
      "text/plain": [
       "False"
      ]
     },
     "execution_count": 10,
     "metadata": {},
     "output_type": "execute_result"
    }
   ],
   "source": [
    "np.isnan(scaled_close).any()"
   ]
  },
  {
   "cell_type": "code",
   "execution_count": 11,
   "metadata": {
    "colab": {},
    "colab_type": "code",
    "id": "evHUrll9ukht"
   },
   "outputs": [],
   "source": [
    "scaled_close = scaled_close[~np.isnan(scaled_close)]"
   ]
  },
  {
   "cell_type": "code",
   "execution_count": 12,
   "metadata": {
    "colab": {},
    "colab_type": "code",
    "id": "gCyOvwnqvTSw"
   },
   "outputs": [],
   "source": [
    "scaled_close = scaled_close.reshape(-1, 1)"
   ]
  },
  {
   "cell_type": "code",
   "execution_count": 13,
   "metadata": {
    "colab": {
     "base_uri": "https://localhost:8080/",
     "height": 34
    },
    "colab_type": "code",
    "id": "eSJxuT3-u6K2",
    "outputId": "e13df5e4-1efa-4734-8d46-3d700e4ea22b"
   },
   "outputs": [
    {
     "data": {
      "text/plain": [
       "False"
      ]
     },
     "execution_count": 13,
     "metadata": {},
     "output_type": "execute_result"
    }
   ],
   "source": [
    "np.isnan(scaled_close).any()"
   ]
  },
  {
   "cell_type": "markdown",
   "metadata": {
    "colab_type": "text",
    "id": "CQgrA2va4Jzx"
   },
   "source": [
    "# Preprocessing"
   ]
  },
  {
   "cell_type": "code",
   "execution_count": 14,
   "metadata": {
    "colab": {},
    "colab_type": "code",
    "id": "NS5O4-Vtq-N1"
   },
   "outputs": [],
   "source": [
    "SEQ_LEN = 10\n",
    "\n",
    "def to_sequences(data, seq_len):\n",
    "    d = []\n",
    "\n",
    "    for index in range(len(data) - seq_len):\n",
    "        d.append(data[index: index + seq_len])\n",
    "\n",
    "    return np.array(d)\n",
    "\n",
    "def preprocess(data_raw, seq_len, train_split):\n",
    "\n",
    "    data = to_sequences(data_raw, seq_len)\n",
    "\n",
    "    num_train = int(train_split * data.shape[0])\n",
    "\n",
    "    X_train = data[:num_train, :-1, :]\n",
    "    y_train = data[:num_train, -1, :]\n",
    "\n",
    "    X_test = data[num_train:, :-1, :]\n",
    "    y_test = data[num_train:, -1, :]\n",
    "\n",
    "    return X_train, y_train, X_test, y_test\n",
    "\n",
    "\n",
    "X_train, y_train, X_test, y_test = preprocess(scaled_close, SEQ_LEN, train_split = 0.95)"
   ]
  },
  {
   "cell_type": "code",
   "execution_count": 15,
   "metadata": {
    "colab": {
     "base_uri": "https://localhost:8080/",
     "height": 34
    },
    "colab_type": "code",
    "id": "XNBTUeaXreni",
    "outputId": "8e2462c7-6df4-4378-8f20-c610c1e3580d"
   },
   "outputs": [
    {
     "data": {
      "text/plain": [
       "(87, 9, 1)"
      ]
     },
     "execution_count": 15,
     "metadata": {},
     "output_type": "execute_result"
    }
   ],
   "source": [
    "X_train.shape"
   ]
  },
  {
   "cell_type": "code",
   "execution_count": 16,
   "metadata": {
    "colab": {
     "base_uri": "https://localhost:8080/",
     "height": 34
    },
    "colab_type": "code",
    "id": "4IOoiN3pUUgO",
    "outputId": "f5a1ae55-fc14-4af6-f9d5-116e0b32c6b5"
   },
   "outputs": [
    {
     "data": {
      "text/plain": [
       "(5, 9, 1)"
      ]
     },
     "execution_count": 16,
     "metadata": {},
     "output_type": "execute_result"
    }
   ],
   "source": [
    "X_test.shape"
   ]
  },
  {
   "cell_type": "markdown",
   "metadata": {
    "colab_type": "text",
    "id": "Yhhv26c34YTW"
   },
   "source": [
    "# Model"
   ]
  },
  {
   "cell_type": "code",
   "execution_count": 29,
   "metadata": {
    "colab": {},
    "colab_type": "code",
    "id": "a3dw5qTasJoy"
   },
   "outputs": [],
   "source": [
    "DROPOUT = 0.2\n",
    "WINDOW_SIZE = SEQ_LEN - 1\n",
    "\n",
    "model = keras.Sequential()\n",
    "\n",
    "model.add(Bidirectional(LSTM(WINDOW_SIZE, return_sequences=True),\n",
    "                        input_shape=(WINDOW_SIZE, X_train.shape[-1])))\n",
    "model.add(Dropout(rate=DROPOUT))\n",
    "\n",
    "model.add(Bidirectional(LSTM((WINDOW_SIZE * 2), return_sequences=True)))\n",
    "model.add(Dropout(rate=DROPOUT))\n",
    "\n",
    "model.add(Bidirectional(LSTM(WINDOW_SIZE, return_sequences=False)))\n",
    "\n",
    "model.add(Dense(units=1))\n",
    "\n",
    "model.add(Activation('linear'))"
   ]
  },
  {
   "cell_type": "markdown",
   "metadata": {
    "colab_type": "text",
    "id": "pjBan-K27L8d"
   },
   "source": [
    "# Training"
   ]
  },
  {
   "cell_type": "code",
   "execution_count": 30,
   "metadata": {
    "colab": {},
    "colab_type": "code",
    "id": "zvc-LMgOHkWJ"
   },
   "outputs": [],
   "source": [
    "model.compile(\n",
    "    loss='mean_squared_error', \n",
    "    optimizer='adam'\n",
    ")"
   ]
  },
  {
   "cell_type": "code",
   "execution_count": 31,
   "metadata": {
    "colab": {
     "base_uri": "https://localhost:8080/",
     "height": 1734
    },
    "colab_type": "code",
    "id": "m1aU2xDvsvrN",
    "outputId": "cf1ac72f-ca97-4b5d-fb2e-2d5614e1d8ad"
   },
   "outputs": [
    {
     "name": "stdout",
     "output_type": "stream",
     "text": [
      "Train on 78 samples, validate on 9 samples\n",
      "Epoch 1/100\n",
      "78/78 [==============================] - 17s 217ms/sample - loss: 0.0250 - val_loss: 0.1524\n",
      "Epoch 2/100\n",
      "78/78 [==============================] - 0s 2ms/sample - loss: 0.0344 - val_loss: 0.1442\n",
      "Epoch 3/100\n",
      "78/78 [==============================] - 0s 2ms/sample - loss: 0.0225 - val_loss: 0.1301\n",
      "Epoch 4/100\n",
      "78/78 [==============================] - 0s 2ms/sample - loss: 0.0177 - val_loss: 0.0686\n",
      "Epoch 5/100\n",
      "78/78 [==============================] - 0s 2ms/sample - loss: 0.0161 - val_loss: 0.0373\n",
      "Epoch 6/100\n",
      "78/78 [==============================] - 0s 2ms/sample - loss: 0.0136 - val_loss: 0.0179\n",
      "Epoch 7/100\n",
      "78/78 [==============================] - 0s 2ms/sample - loss: 0.0115 - val_loss: 0.0187\n",
      "Epoch 8/100\n",
      "78/78 [==============================] - 0s 2ms/sample - loss: 0.0102 - val_loss: 0.0385\n",
      "Epoch 9/100\n",
      "78/78 [==============================] - 0s 2ms/sample - loss: 0.0098 - val_loss: 0.0670\n",
      "Epoch 10/100\n",
      "78/78 [==============================] - 0s 3ms/sample - loss: 0.0093 - val_loss: 0.0808\n",
      "Epoch 11/100\n",
      "78/78 [==============================] - 0s 3ms/sample - loss: 0.0092 - val_loss: 0.0911\n",
      "Epoch 12/100\n",
      "78/78 [==============================] - 0s 2ms/sample - loss: 0.0086 - val_loss: 0.1066\n",
      "Epoch 13/100\n",
      "78/78 [==============================] - 0s 2ms/sample - loss: 0.0082 - val_loss: 0.1195\n",
      "Epoch 14/100\n",
      "78/78 [==============================] - 0s 2ms/sample - loss: 0.0077 - val_loss: 0.1232\n",
      "Epoch 15/100\n",
      "78/78 [==============================] - 0s 2ms/sample - loss: 0.0103 - val_loss: 0.1190\n",
      "Epoch 16/100\n",
      "78/78 [==============================] - 0s 3ms/sample - loss: 0.0075 - val_loss: 0.1843\n",
      "Epoch 17/100\n",
      "78/78 [==============================] - 0s 2ms/sample - loss: 0.0085 - val_loss: 0.1556\n",
      "Epoch 18/100\n",
      "78/78 [==============================] - 0s 2ms/sample - loss: 0.0068 - val_loss: 0.2038\n",
      "Epoch 19/100\n",
      "78/78 [==============================] - 0s 2ms/sample - loss: 0.0078 - val_loss: 0.2015\n",
      "Epoch 20/100\n",
      "78/78 [==============================] - 0s 2ms/sample - loss: 0.0071 - val_loss: 0.2512\n",
      "Epoch 21/100\n",
      "78/78 [==============================] - 0s 2ms/sample - loss: 0.0069 - val_loss: 0.2334\n",
      "Epoch 22/100\n",
      "78/78 [==============================] - 0s 2ms/sample - loss: 0.0053 - val_loss: 0.2110\n",
      "Epoch 23/100\n",
      "78/78 [==============================] - 0s 2ms/sample - loss: 0.0068 - val_loss: 0.2219\n",
      "Epoch 24/100\n",
      "78/78 [==============================] - 0s 3ms/sample - loss: 0.0081 - val_loss: 0.3102\n",
      "Epoch 25/100\n",
      "78/78 [==============================] - 0s 2ms/sample - loss: 0.0072 - val_loss: 0.3145\n",
      "Epoch 26/100\n",
      "78/78 [==============================] - 0s 2ms/sample - loss: 0.0098 - val_loss: 0.1403\n",
      "Epoch 27/100\n",
      "78/78 [==============================] - 0s 3ms/sample - loss: 0.0116 - val_loss: 0.1389\n",
      "Epoch 28/100\n",
      "78/78 [==============================] - 0s 3ms/sample - loss: 0.0064 - val_loss: 0.2670\n",
      "Epoch 29/100\n",
      "78/78 [==============================] - 0s 2ms/sample - loss: 0.0059 - val_loss: 0.2528\n",
      "Epoch 30/100\n",
      "78/78 [==============================] - 0s 2ms/sample - loss: 0.0059 - val_loss: 0.2848\n",
      "Epoch 31/100\n",
      "78/78 [==============================] - 0s 2ms/sample - loss: 0.0063 - val_loss: 0.2067\n",
      "Epoch 32/100\n",
      "78/78 [==============================] - 0s 2ms/sample - loss: 0.0068 - val_loss: 0.1795\n",
      "Epoch 33/100\n",
      "78/78 [==============================] - 0s 2ms/sample - loss: 0.0072 - val_loss: 0.2255\n",
      "Epoch 34/100\n",
      "78/78 [==============================] - 0s 2ms/sample - loss: 0.0075 - val_loss: 0.2041\n",
      "Epoch 35/100\n",
      "78/78 [==============================] - 0s 2ms/sample - loss: 0.0093 - val_loss: 0.1947\n",
      "Epoch 36/100\n",
      "78/78 [==============================] - 0s 3ms/sample - loss: 0.0060 - val_loss: 0.2596\n",
      "Epoch 37/100\n",
      "78/78 [==============================] - 0s 2ms/sample - loss: 0.0071 - val_loss: 0.1778\n",
      "Epoch 38/100\n",
      "78/78 [==============================] - 0s 2ms/sample - loss: 0.0058 - val_loss: 0.1588\n",
      "Epoch 39/100\n",
      "78/78 [==============================] - 0s 2ms/sample - loss: 0.0054 - val_loss: 0.1855\n",
      "Epoch 40/100\n",
      "78/78 [==============================] - 0s 2ms/sample - loss: 0.0065 - val_loss: 0.1456\n",
      "Epoch 41/100\n",
      "78/78 [==============================] - 0s 3ms/sample - loss: 0.0063 - val_loss: 0.1490\n",
      "Epoch 42/100\n",
      "78/78 [==============================] - 0s 2ms/sample - loss: 0.0064 - val_loss: 0.1976\n",
      "Epoch 43/100\n",
      "78/78 [==============================] - 0s 2ms/sample - loss: 0.0070 - val_loss: 0.1199\n",
      "Epoch 44/100\n",
      "78/78 [==============================] - 0s 2ms/sample - loss: 0.0074 - val_loss: 0.1092\n",
      "Epoch 45/100\n",
      "78/78 [==============================] - 0s 2ms/sample - loss: 0.0058 - val_loss: 0.1431\n",
      "Epoch 46/100\n",
      "78/78 [==============================] - 0s 2ms/sample - loss: 0.0060 - val_loss: 0.1568\n",
      "Epoch 47/100\n",
      "78/78 [==============================] - 0s 3ms/sample - loss: 0.0058 - val_loss: 0.1658\n",
      "Epoch 48/100\n",
      "78/78 [==============================] - 0s 3ms/sample - loss: 0.0067 - val_loss: 0.1516\n",
      "Epoch 49/100\n",
      "78/78 [==============================] - 0s 3ms/sample - loss: 0.0071 - val_loss: 0.0687\n",
      "Epoch 50/100\n",
      "78/78 [==============================] - 0s 3ms/sample - loss: 0.0087 - val_loss: 0.0892\n",
      "Epoch 51/100\n",
      "78/78 [==============================] - 0s 2ms/sample - loss: 0.0062 - val_loss: 0.1511\n",
      "Epoch 52/100\n",
      "78/78 [==============================] - 0s 2ms/sample - loss: 0.0064 - val_loss: 0.1322\n",
      "Epoch 53/100\n",
      "78/78 [==============================] - 0s 2ms/sample - loss: 0.0068 - val_loss: 0.1368\n",
      "Epoch 54/100\n",
      "78/78 [==============================] - 0s 2ms/sample - loss: 0.0058 - val_loss: 0.0843\n",
      "Epoch 55/100\n",
      "78/78 [==============================] - 0s 2ms/sample - loss: 0.0063 - val_loss: 0.0850\n",
      "Epoch 56/100\n",
      "78/78 [==============================] - 0s 2ms/sample - loss: 0.0058 - val_loss: 0.1187\n",
      "Epoch 57/100\n",
      "78/78 [==============================] - 0s 2ms/sample - loss: 0.0071 - val_loss: 0.1111\n",
      "Epoch 58/100\n",
      "78/78 [==============================] - 0s 3ms/sample - loss: 0.0064 - val_loss: 0.0608\n",
      "Epoch 59/100\n",
      "78/78 [==============================] - 0s 2ms/sample - loss: 0.0076 - val_loss: 0.0814\n",
      "Epoch 60/100\n",
      "78/78 [==============================] - 0s 2ms/sample - loss: 0.0054 - val_loss: 0.1056\n",
      "Epoch 61/100\n",
      "78/78 [==============================] - 0s 3ms/sample - loss: 0.0051 - val_loss: 0.0692\n",
      "Epoch 62/100\n",
      "78/78 [==============================] - 0s 2ms/sample - loss: 0.0062 - val_loss: 0.0820\n",
      "Epoch 63/100\n",
      "78/78 [==============================] - 0s 2ms/sample - loss: 0.0061 - val_loss: 0.0745\n",
      "Epoch 64/100\n",
      "78/78 [==============================] - 0s 2ms/sample - loss: 0.0058 - val_loss: 0.0618\n",
      "Epoch 65/100\n",
      "78/78 [==============================] - 0s 3ms/sample - loss: 0.0051 - val_loss: 0.0633\n",
      "Epoch 66/100\n",
      "78/78 [==============================] - 0s 2ms/sample - loss: 0.0052 - val_loss: 0.0803\n",
      "Epoch 67/100\n",
      "78/78 [==============================] - 0s 3ms/sample - loss: 0.0058 - val_loss: 0.0841\n",
      "Epoch 68/100\n",
      "78/78 [==============================] - 0s 2ms/sample - loss: 0.0055 - val_loss: 0.0428\n",
      "Epoch 69/100\n",
      "78/78 [==============================] - 0s 2ms/sample - loss: 0.0050 - val_loss: 0.0275\n",
      "Epoch 70/100\n",
      "78/78 [==============================] - 0s 2ms/sample - loss: 0.0049 - val_loss: 0.0324\n",
      "Epoch 71/100\n",
      "78/78 [==============================] - 0s 3ms/sample - loss: 0.0051 - val_loss: 0.0390\n",
      "Epoch 72/100\n",
      "78/78 [==============================] - 0s 3ms/sample - loss: 0.0057 - val_loss: 0.0209\n",
      "Epoch 73/100\n",
      "78/78 [==============================] - 0s 3ms/sample - loss: 0.0070 - val_loss: 0.0328\n",
      "Epoch 74/100\n",
      "78/78 [==============================] - 0s 2ms/sample - loss: 0.0054 - val_loss: 0.0343\n",
      "Epoch 75/100\n",
      "78/78 [==============================] - 0s 2ms/sample - loss: 0.0062 - val_loss: 0.0322\n",
      "Epoch 76/100\n",
      "78/78 [==============================] - 0s 3ms/sample - loss: 0.0054 - val_loss: 0.0170\n",
      "Epoch 77/100\n",
      "78/78 [==============================] - 0s 2ms/sample - loss: 0.0062 - val_loss: 0.0270\n",
      "Epoch 78/100\n",
      "78/78 [==============================] - 0s 3ms/sample - loss: 0.0059 - val_loss: 0.0243\n",
      "Epoch 79/100\n",
      "78/78 [==============================] - 0s 3ms/sample - loss: 0.0059 - val_loss: 0.0187\n",
      "Epoch 80/100\n",
      "78/78 [==============================] - 0s 2ms/sample - loss: 0.0049 - val_loss: 0.0131\n"
     ]
    },
    {
     "name": "stdout",
     "output_type": "stream",
     "text": [
      "Epoch 81/100\n",
      "78/78 [==============================] - 0s 2ms/sample - loss: 0.0058 - val_loss: 0.0246\n",
      "Epoch 82/100\n",
      "78/78 [==============================] - 0s 2ms/sample - loss: 0.0058 - val_loss: 0.0266\n",
      "Epoch 83/100\n",
      "78/78 [==============================] - 0s 2ms/sample - loss: 0.0051 - val_loss: 0.0091\n",
      "Epoch 84/100\n",
      "78/78 [==============================] - 0s 2ms/sample - loss: 0.0064 - val_loss: 0.0201\n",
      "Epoch 85/100\n",
      "78/78 [==============================] - 0s 3ms/sample - loss: 0.0048 - val_loss: 0.0203\n",
      "Epoch 86/100\n",
      "78/78 [==============================] - 0s 2ms/sample - loss: 0.0056 - val_loss: 0.0159\n",
      "Epoch 87/100\n",
      "78/78 [==============================] - 0s 2ms/sample - loss: 0.0045 - val_loss: 0.0159\n",
      "Epoch 88/100\n",
      "78/78 [==============================] - 0s 3ms/sample - loss: 0.0050 - val_loss: 0.0080\n",
      "Epoch 89/100\n",
      "78/78 [==============================] - 0s 2ms/sample - loss: 0.0048 - val_loss: 0.0073\n",
      "Epoch 90/100\n",
      "78/78 [==============================] - 0s 2ms/sample - loss: 0.0058 - val_loss: 0.0190\n",
      "Epoch 91/100\n",
      "78/78 [==============================] - 0s 3ms/sample - loss: 0.0054 - val_loss: 0.0041\n",
      "Epoch 92/100\n",
      "78/78 [==============================] - 0s 2ms/sample - loss: 0.0056 - val_loss: 0.0050\n",
      "Epoch 93/100\n",
      "78/78 [==============================] - 0s 2ms/sample - loss: 0.0048 - val_loss: 0.0188\n",
      "Epoch 94/100\n",
      "78/78 [==============================] - 0s 3ms/sample - loss: 0.0053 - val_loss: 0.0042\n",
      "Epoch 95/100\n",
      "78/78 [==============================] - 0s 2ms/sample - loss: 0.0052 - val_loss: 0.0056\n",
      "Epoch 96/100\n",
      "78/78 [==============================] - 0s 2ms/sample - loss: 0.0047 - val_loss: 0.0068\n",
      "Epoch 97/100\n",
      "78/78 [==============================] - 0s 3ms/sample - loss: 0.0045 - val_loss: 0.0057\n",
      "Epoch 98/100\n",
      "78/78 [==============================] - 0s 2ms/sample - loss: 0.0040 - val_loss: 0.0078\n",
      "Epoch 99/100\n",
      "78/78 [==============================] - 0s 2ms/sample - loss: 0.0046 - val_loss: 0.0070\n",
      "Epoch 100/100\n",
      "78/78 [==============================] - 0s 2ms/sample - loss: 0.0045 - val_loss: 0.0057\n"
     ]
    }
   ],
   "source": [
    "BATCH_SIZE = 5\n",
    "\n",
    "history = model.fit(\n",
    "    X_train, \n",
    "    y_train, \n",
    "    epochs=100, \n",
    "    batch_size=BATCH_SIZE, \n",
    "    shuffle=False,\n",
    "    validation_split=0.1\n",
    ")"
   ]
  },
  {
   "cell_type": "code",
   "execution_count": 32,
   "metadata": {
    "colab": {
     "base_uri": "https://localhost:8080/",
     "height": 51
    },
    "colab_type": "code",
    "id": "L9JumIeP40xv",
    "outputId": "ac7cfeaf-7540-4734-a82c-394383378b95"
   },
   "outputs": [
    {
     "name": "stdout",
     "output_type": "stream",
     "text": [
      "\r",
      "5/1 [======================================================================================================================================================] - 0s 1ms/sample - loss: 1.0873e-04\n"
     ]
    },
    {
     "data": {
      "text/plain": [
       "0.00010873346764128655"
      ]
     },
     "execution_count": 32,
     "metadata": {},
     "output_type": "execute_result"
    }
   ],
   "source": [
    "model.evaluate(X_test, y_test)"
   ]
  },
  {
   "cell_type": "code",
   "execution_count": 33,
   "metadata": {
    "colab": {
     "base_uri": "https://localhost:8080/",
     "height": 535
    },
    "colab_type": "code",
    "id": "2_9ibR1e5DnQ",
    "outputId": "793cdf41-fc6b-4b4c-9959-82bcd6593625"
   },
   "outputs": [
    {
     "data": {
      "image/png": "[encoded data removed]",
      "text/plain": [
       "<Figure size 1008x576 with 1 Axes>"
      ]
     },
     "metadata": {},
     "output_type": "display_data"
    }
   ],
   "source": [
    "plt.plot(history.history['loss'])\n",
    "plt.plot(history.history['val_loss'])\n",
    "plt.title('model loss')\n",
    "plt.ylabel('loss')\n",
    "plt.xlabel('epoch')\n",
    "plt.legend(['train', 'test'], loc='upper left')\n",
    "plt.show()"
   ]
  },
  {
   "cell_type": "markdown",
   "metadata": {
    "colab_type": "text",
    "id": "Xf9STH2D4_hP"
   },
   "source": [
    "# Prediction"
   ]
  },
  {
   "cell_type": "code",
   "execution_count": 95,
   "metadata": {
    "colab": {
     "base_uri": "https://localhost:8080/",
     "height": 535
    },
    "colab_type": "code",
    "id": "Lui1XTi0xVsF",
    "outputId": "8aed2935-7395-474c-f5ba-c3dd0d8a423d"
   },
   "outputs": [
    {
     "data": {
      "image/png": "[encoded data removed]",
      "text/plain": [
       "<Figure size 1008x576 with 1 Axes>"
      ]
     },
     "metadata": {},
     "output_type": "display_data"
    }
   ],
   "source": [
    "y_hat = model.predict(X_test)\n",
    "\n",
    "y_test_inverse = scaler.inverse_transform(y_test)\n",
    "y_hat_inverse = scaler.inverse_transform(y_hat)\n",
    " \n",
    "plt.plot(y_test_inverse, label=\"Actual Price\", color='green')\n",
    "plt.plot(y_hat_inverse, label=\"Predicted Price\", color='red')\n",
    " \n",
    "plt.title('Bitcoin price prediction')\n",
    "plt.xlabel('Time [days]')\n",
    "plt.ylabel('Price')\n",
    "plt.legend(loc='best')\n",
    " \n",
    "plt.show();"
   ]
  },
  {
   "cell_type": "markdown",
   "metadata": {},
   "source": [
    "# 7- EVALUATING THE MODEL"
   ]
  },
  {
   "cell_type": "markdown",
   "metadata": {},
   "source": [
    "Before any step , y_test and y_pred must be in same matrix size"
   ]
  },
  {
   "cell_type": "code",
   "execution_count": 136,
   "metadata": {},
   "outputs": [
    {
     "data": {
      "text/plain": [
       "(5, 1)"
      ]
     },
     "execution_count": 136,
     "metadata": {},
     "output_type": "execute_result"
    }
   ],
   "source": [
    "y_test_inverse.shape"
   ]
  },
  {
   "cell_type": "code",
   "execution_count": 137,
   "metadata": {},
   "outputs": [
    {
     "data": {
      "text/plain": [
       "(5, 1)"
      ]
     },
     "execution_count": 137,
     "metadata": {},
     "output_type": "execute_result"
    }
   ],
   "source": [
    "y_hat_inverse.shape"
   ]
  },
  {
   "cell_type": "markdown",
   "metadata": {},
   "source": [
    "CALCULATE R^2 FOR TESTED DATA"
   ]
  },
  {
   "cell_type": "code",
   "execution_count": 138,
   "metadata": {},
   "outputs": [],
   "source": [
    "from sklearn.metrics import r2_score"
   ]
  },
  {
   "cell_type": "code",
   "execution_count": 139,
   "metadata": {
    "colab": {},
    "colab_type": "code",
    "id": "ak-CiQAVz4Fw"
   },
   "outputs": [],
   "source": [
    "test_r2_score = r2_score(y_test_inverse,y_hat_inverse)"
   ]
  },
  {
   "cell_type": "code",
   "execution_count": 140,
   "metadata": {},
   "outputs": [
    {
     "data": {
      "text/plain": [
       "0.7589840127092033"
      ]
     },
     "execution_count": 140,
     "metadata": {},
     "output_type": "execute_result"
    }
   ],
   "source": [
    "test_r2_score"
   ]
  },
  {
   "cell_type": "markdown",
   "metadata": {},
   "source": [
    "CALCULATE MSE FOR TESTED DATA"
   ]
  },
  {
   "cell_type": "code",
   "execution_count": 141,
   "metadata": {},
   "outputs": [],
   "source": [
    "from sklearn.metrics import mean_squared_error\n",
    "import math"
   ]
  },
  {
   "cell_type": "code",
   "execution_count": 142,
   "metadata": {},
   "outputs": [],
   "source": [
    "test_MSE_score = math.sqrt(mean_squared_error(y_test_inverse,y_hat_inverse))"
   ]
  },
  {
   "cell_type": "code",
   "execution_count": 143,
   "metadata": {},
   "outputs": [
    {
     "data": {
      "text/plain": [
       "20.34263064085283"
      ]
     },
     "execution_count": 143,
     "metadata": {},
     "output_type": "execute_result"
    }
   ],
   "source": [
    "test_MSE_score"
   ]
  }
 ],
 "metadata": {
  "accelerator": "GPU",
  "colab": {
   "collapsed_sections": [],
   "name": "3.stock_prediction.ipynb",
   "provenance": [],
   "version": "0.3.2"
  },
  "kernelspec": {
   "display_name": "Python 3",
   "language": "python",
   "name": "python3"
  },
  "language_info": {
   "codemirror_mode": {
    "name": "ipython",
    "version": 3
   },
   "file_extension": ".py",
   "mimetype": "text/x-python",
   "name": "python",
   "nbconvert_exporter": "python",
   "pygments_lexer": "ipython3",
   "version": "3.7.5"
  }
 },
 "nbformat": 4,
 "nbformat_minor": 1
}
